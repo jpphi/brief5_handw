{
 "cells": [
  {
   "cell_type": "code",
   "execution_count": 21,
   "metadata": {},
   "outputs": [
    {
     "name": "stdout",
     "output_type": "stream",
     "text": [
      "(1797, 64)\n"
     ]
    }
   ],
   "source": [
    "# Import some libraries\n",
    "\n",
    "import numpy as np\n",
    "from sklearn.datasets import load_digits\n",
    "import matplotlib.pyplot as plt \n",
    "\n",
    "# Import some data\n",
    "digits = load_digits()\n",
    "# Show dimensionality\n",
    "print(digits.data.shape)"
   ]
  },
  {
   "cell_type": "code",
   "execution_count": 22,
   "metadata": {},
   "outputs": [
    {
     "data": {
      "text/plain": [
       "<Figure size 432x288 with 0 Axes>"
      ]
     },
     "metadata": {},
     "output_type": "display_data"
    },
    {
     "data": {
      "image/png": "[encoded data removed]",
      "text/plain": [
       "<Figure size 288x288 with 1 Axes>"
      ]
     },
     "metadata": {
      "needs_background": "light"
     },
     "output_type": "display_data"
    }
   ],
   "source": [
    "# Show one data\n",
    "\n",
    "plt.gray() \n",
    "plt.matshow(digits.images[0]) \n",
    "plt.show()"
   ]
  },
  {
   "cell_type": "code",
   "execution_count": 64,
   "metadata": {},
   "outputs": [
    {
     "name": "stdout",
     "output_type": "stream",
     "text": [
      "(1797, 8, 8)\n",
      "2.8284271247461903\n",
      "2\n",
      "<class 'sklearn.utils.Bunch'>\n"
     ]
    },
    {
     "data": {
      "text/plain": [
       "\"\\nfor i, d in enumerate(n_digits):\\n    for j in range(M):\\n        #print(X[Y==d][j])\\n        axs[i,j].imshow(X[Y == d][j])\\n        axs[i,j].axis('off')\\n\""
      ]
     },
     "execution_count": 64,
     "metadata": {},
     "output_type": "execute_result"
    }
   ],
   "source": [
    "# Show several data for each label (== category) \n",
    "\n",
    "X = digits.images\n",
    "Y = digits.target\n",
    "\n",
    "n_digits = np.unique(Y)\n",
    "M = 10\n",
    "dim = int(np.sqrt(X.shape[1]))\n",
    "print(X.shape)\n",
    "print(np.sqrt(X.shape[1]))\n",
    "print(dim)\n",
    "#print(digits.DESCR)\n",
    "print(type(digits))\n",
    "\n",
    "#fig, axs = plt.subplots(len(n_digits), M, figsize=(15, 15))\n",
    "\"\"\"\n",
    "for i, d in enumerate(n_digits):\n",
    "    for j in range(M):\n",
    "        #print(X[Y==d][j])\n",
    "        axs[i,j].imshow(X[Y == d][j])\n",
    "        axs[i,j].axis('off')\n",
    "\"\"\""
   ]
  },
  {
   "cell_type": "code",
   "execution_count": 73,
   "metadata": {},
   "outputs": [
    {
     "name": "stdout",
     "output_type": "stream",
     "text": [
      "[0 1 2 3 4 5 6 7 8 9]\n"
     ]
    }
   ],
   "source": [
    "print(digits.target_names)"
   ]
  },
  {
   "cell_type": "code",
   "execution_count": 74,
   "metadata": {},
   "outputs": [],
   "source": [
    "np.linspace?\n"
   ]
  },
  {
   "cell_type": "markdown",
   "metadata": {},
   "source": [
    "## **1) Get and understand your data**"
   ]
  },
  {
   "cell_type": "code",
   "execution_count": 41,
   "metadata": {},
   "outputs": [],
   "source": [
    "### a) What is the type of the data ?  \n",
    "Chaques images est une matrice de 8 x 8. Les éléments de la matrice sont des nombres flotants codant la\n",
    "couleurs, ou le niveau de gris, avec lequel l'élèment (sous forme de pixel ou de petites\n",
    "\n"
   ]
  },
  {
   "cell_type": "markdown",
   "metadata": {},
   "source": [
    "**Comment fonctionne subplots**\n",
    "\n"
   ]
  },
  {
   "cell_type": "code",
   "execution_count": 40,
   "metadata": {},
   "outputs": [
    {
     "data": {
      "text/plain": [
       "<Figure size 432x288 with 0 Axes>"
      ]
     },
     "metadata": {},
     "output_type": "display_data"
    },
    {
     "data": {
      "image/png": "[encoded data removed]",
      "text/plain": [
       "<Figure size 288x288 with 1 Axes>"
      ]
     },
     "metadata": {
      "needs_background": "light"
     },
     "output_type": "display_data"
    },
    {
     "data": {
      "image/png": "[encoded data removed]",
      "text/plain": [
       "<Figure size 288x288 with 1 Axes>"
      ]
     },
     "metadata": {
      "needs_background": "light"
     },
     "output_type": "display_data"
    }
   ],
   "source": [
    "# Show one data\n",
    "\n",
    "plt.gray() \n",
    "plt.matshow(digits.images[0]) \n",
    "plt.show()\n",
    "#print(digits.images[0])\n",
    "a=[[0.,1.,2.,3.,4.,5.,6.,7.], [8.,9.,10.,11.,12.,13.,14.,15.], [0.,1.,2.,3.,4.,5.,6.,7.],\\\n",
    "   [8.,9.,10.,11.,12.,13.,14.,15.],[0.,1.,2.,3.,4.,5.,6.,7.], [8.,9.,10.,11.,12.,13.,14.,15.], [0.,1.,2.,3.,4.,5.,6.,7.],\\\n",
    "   [8.,9.,10.,11.,12.,13.,14.,15.]]\n",
    "#print(a)\n",
    "b= np.array(a)\n",
    "#print(b)\n",
    "#print(type(digits.images[0]))\n",
    "#print(type(b))\n",
    "plt.matshow(b) \n",
    "plt.show()\n",
    "# matshow s'adapte au valeurs qui sont des float, et créer une échelle\n"
   ]
  },
  {
   "cell_type": "markdown",
   "metadata": {},
   "source": [
    "**1) Get and understand your data**\n",
    "\n",
    "git clone the repository and run the given notebook in https://github.com/dtrckd/simplon_datai_2020/blob/master/brief_3/.\n",
    "\n",
    "what is the type of the data ?\n",
    "\n",
    "How many pixel has one data instance ?\n",
    "\n",
    "What is the type of data of one pixel ? what does it represents ?\n",
    "\n",
    "\n",
    "**2) Prepare your ML algorithm**\n",
    "\n",
    "> Veille\n",
    "How to evaluate classification algorithms ?\n",
    "* https://scikit-learn.org\n",
    "* wikipedia\n",
    "* towards data science\n",
    "* ...\n",
    "\n",
    "> Questions\n",
    "* Write the equation of the **precision** and **recall** score and explicit what each terms represents.\n",
    "* explain the purpose of the training set ?\n",
    "* explain the prpose of the testing set ?\n",
    "<!--* the randomization of the data ?-->\n",
    "\n",
    "\n",
    "What does the `train_test_split` function in sklearn do ?\n",
    "\n",
    "use the `train_test_split` function of sklearn to build a test set with size that represents 20% of the original dataset (and 80% for the training set).\n",
    "\n",
    "check that the ratio is correct.\n",
    "\n",
    "**3) Predict Digits**\n",
    "\n",
    "In the dataset we have multiple label. Therefore, to start we will predict in a binary case. It meansthat that we will predict only if an image is a given digit (for exemple `7`) or not.\n",
    "\n",
    "To do that we will a **logistic regression** algorithm plus (at least) **two** others of your choices. \n",
    "\n",
    "Fit the model and show the performance results whithin a table for each models in terms of:\n",
    "* the **precision** score on the testing set \n",
    "* the **recall** score on the testing set\n",
    "* the inference time for each algorithm\n",
    "\n",
    "How many input data the algorithms needs the be efficient (and why) ? \n",
    "\n",
    "**4) Gradient descent ?**\n",
    "\n",
    "We want to observe the convergence of the performance.\n",
    "To do so, we want to implement our own version of the Logistic regression inference algorithm.\n",
    "\n",
    "> veille\n",
    "What algorithm uses sklearn to estimate the model parameters for the logistic regression ?\n",
    "* What are the keys equations who need to implement the algorithm ?\n",
    "* what is the difference betwee the gradient descent and stochastic gradient descent ?\n",
    "\n",
    "Implement the gradient descent for the logistic regression.\n",
    "\n",
    "\n",
    "Show the convergence of the performance results with two graphics:\n",
    "* the **precision** score on testing set AND training set \n",
    "* the **recall** score on testing set AND training set \n",
    "\n",
    "\n",
    "What is the impact of the learning rate on the convergence ?\n",
    "What difference do you observe on the results between the training set and testing set"
   ]
  },
  {
   "cell_type": "code",
   "execution_count": null,
   "metadata": {},
   "outputs": [],
   "source": []
  },
  {
   "cell_type": "code",
   "execution_count": null,
   "metadata": {},
   "outputs": [],
   "source": []
  },
  {
   "cell_type": "code",
   "execution_count": null,
   "metadata": {},
   "outputs": [],
   "source": []
  },
  {
   "cell_type": "code",
   "execution_count": null,
   "metadata": {},
   "outputs": [],
   "source": []
  },
  {
   "cell_type": "code",
   "execution_count": null,
   "metadata": {},
   "outputs": [],
   "source": []
  },
  {
   "cell_type": "code",
   "execution_count": null,
   "metadata": {},
   "outputs": [],
   "source": []
  },
  {
   "cell_type": "code",
   "execution_count": null,
   "metadata": {},
   "outputs": [],
   "source": []
  },
  {
   "cell_type": "markdown",
   "metadata": {},
   "source": [
    "keywords:  numpy, scikit-learn, logistic regression, descente de gradient, optimisation.\n",
    "\n",
    "# Description\n",
    "\n",
    "Mr Pontier is back and needs your help. This times, he needs to automatically detect hand-written digits written on pictures that represents the phone numbers of his clients and collaborators.\n",
    "Because he has thousands of documents, this will take far too long to do it manually. This is why he asked you if you can design an algorithm that automatically detect the number from the pictures.\n",
    "\n",
    "Furthermore, Mr Pontier wants\n",
    "* to understand how the algorithm works,\n",
    "* compare the performance with several classification algorithms \n",
    "* to observe the convergence of a grandient descent algorithm for further investigation.\n",
    "\n",
    "\n",
    "# Proposed Plan\n",
    "\n",
    "**1) Get and understand your data**\n",
    "\n",
    "git clone the repository and run the given notebook in https://github.com/dtrckd/simplon_datai_2020/blob/master/brief_3/.\n",
    "\n",
    "what is the type of the data ?\n",
    "\n",
    "How many pixel has one data instance ?\n",
    "\n",
    "What is the type of data of one pixel ? what does it represents ?\n",
    "\n",
    "\n",
    "**2) Prepare your ML algorithm**\n",
    "\n",
    "> Veille\n",
    "How to evaluate classification algorithms ?\n",
    "* https://scikit-learn.org\n",
    "* wikipedia\n",
    "* towards data science\n",
    "* ...\n",
    "\n",
    "> Questions\n",
    "* Write the equation of the **precision** and **recall** score and explicit what each terms represents.\n",
    "* explain the purpose of the training set ?\n",
    "* explain the prpose of the testing set ?\n",
    "<!--* the randomization of the data ?-->\n",
    "\n",
    "\n",
    "What does the `train_test_split` function in sklearn do ?\n",
    "\n",
    "use the `train_test_split` function of sklearn to build a test set with size that represents 20% of the original dataset (and 80% for the training set).\n",
    "\n",
    "check that the ratio is correct.\n",
    "\n",
    "**3) Predict Digits**\n",
    "\n",
    "In the dataset we have multiple label. Therefore, to start we will predict in a binary case. It meansthat that we will predict only if an image is a given digit (for exemple `7`) or not.\n",
    "\n",
    "To do that we will a **logistic regression** algorithm plus (at least) **two** others of your choices. \n",
    "\n",
    "Fit the model and show the performance results whithin a table for each models in terms of:\n",
    "* the **precision** score on the testing set \n",
    "* the **recall** score on the testing set\n",
    "* the inference time for each algorithm\n",
    "\n",
    "How many input data the algorithms needs the be efficient (and why) ? \n",
    "\n",
    "**4) Gradient descent ?**\n",
    "\n",
    "We want to observe the convergence of the performance.\n",
    "To do so, we want to implement our own version of the Logistic regression inference algorithm.\n",
    "\n",
    "> veille\n",
    "What algorithm uses sklearn to estimate the model parameters for the logistic regression ?\n",
    "* What are the keys equations who need to implement the algorithm ?\n",
    "* what is the difference betwee the gradient descent and stochastic gradient descent ?\n",
    "\n",
    "Implement the gradient descent for the logistic regression.\n",
    "\n",
    "\n",
    "Show the convergence of the performance results with two graphics:\n",
    "* the **precision** score on testing set AND training set \n",
    "* the **recall** score on testing set AND training set \n",
    "\n",
    "\n",
    "What is the impact of the learning rate on the convergence ?\n",
    "What difference do you observe on the results between the training set and testing set\n"
   ]
  },
  {
   "cell_type": "code",
   "execution_count": null,
   "metadata": {},
   "outputs": [],
   "source": []
  }
 ],
 "metadata": {
  "kernelspec": {
   "display_name": "Python 3",
   "language": "python",
   "name": "python3"
  },
  "language_info": {
   "codemirror_mode": {
    "name": "ipython",
    "version": 3
   },
   "file_extension": ".py",
   "mimetype": "text/x-python",
   "name": "python",
   "nbconvert_exporter": "python",
   "pygments_lexer": "ipython3",
   "version": "3.8.3"
  }
 },
 "nbformat": 4,
 "nbformat_minor": 4
}
